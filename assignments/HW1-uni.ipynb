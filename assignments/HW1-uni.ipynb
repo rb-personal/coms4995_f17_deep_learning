{
 "cells": [
  {
   "cell_type": "markdown",
   "metadata": {
    "collapsed": true
   },
   "source": [
    "# COMS 4995_002 Deep Learning Assignment 1\n",
    "Due on Monday, Oct 9, 11:59pm\n",
    "\n",
    "This assignment can be done in groups of at most 3 students. Everyone must submit on Courseworks individually."
   ]
  },
  {
   "cell_type": "markdown",
   "metadata": {},
   "source": [
    "Write down the UNIs of your group (if applicable)\n",
    "\n",
    "Member 1: Rohit Banerjee, rb3246"
   ]
  },
  {
   "cell_type": "code",
   "execution_count": 7,
   "metadata": {
    "collapsed": true
   },
   "outputs": [],
   "source": [
    "%matplotlib inline\n",
    "import matplotlib.pyplot as plt\n",
    "import numpy as np\n",
    "import scipy.misc\n",
    "import glob\n",
    "import sys\n",
    "# you shouldn't need to make any more imports"
   ]
  },
  {
   "cell_type": "code",
   "execution_count": 59,
   "metadata": {
    "collapsed": true
   },
   "outputs": [],
   "source": [
    "class NeuralNetwork(object):\n",
    "    def __init__(self, layer_dimensions, drop_prob=0.0, reg_lambda=0.0):\n",
    "        np.random.seed(1)\n",
    "\n",
    "        self.parameters = {}\n",
    "        self.parameters[\"batch_index\"] = 0\n",
    "        self.num_layers = len(layer_dimensions)\n",
    "        self.drop_prob = drop_prob\n",
    "        self.reg_lambda = reg_lambda\n",
    "\n",
    "        print(\"Num Layers: \", self.num_layers)\n",
    "        for l in range(1, self.num_layers):\n",
    "            self.parameters[\"W\" + str(l)] = np.random.randn(layer_dimensions[l], layer_dimensions[l-1])\n",
    "            print(\"W\"+str(l), \" -- \", self.parameters[\"W\" + str(l)].shape)\n",
    "            self.parameters[\"b\" + str(l)] = np.zeros((layer_dimensions[l], 1))\n",
    "            print(\"b\"+str(l), \" -- \", self.parameters[\"b\" + str(l)].shape)\n",
    "\n",
    "    def affineForward(self, A, W, b):\n",
    "        assert(W.shape[1] == A.shape[0])\n",
    "        cache = (A, W, b)\n",
    "        return np.dot(W,A)+b, cache\n",
    "\n",
    "    def activationForward(self, A, activation=\"relu\"):\n",
    "        if activation==\"relu\":\n",
    "            return self.relu(A)\n",
    "\n",
    "    def relu(self, X):\n",
    "        return np.maximum(0, X)\n",
    "\n",
    "    def dropout(self, A, prob):\n",
    "        M = None\n",
    "        return A, M\n",
    "\n",
    "    def forwardPropagation(self, X):\n",
    "        AL = None\n",
    "        cache = []\n",
    "\n",
    "        AL = X\n",
    "        for l in range (1, self.num_layers):\n",
    "            W = self.parameters[\"W\"+str(l)]\n",
    "            b = self.parameters[\"b\"+str(l)]\n",
    "            AL, cacheL = self.affineForward(AL, W, b)\n",
    "            print(\"affineForward for layer \", l, \" -- shape of output: \", AL.shape)\n",
    "            AL = self.activationForward(AL, \"relu\")\n",
    "            print(\"activationForward for layer \", l, \" -- shape of output: \", AL.shape)\n",
    "            cache.append(cacheL)\n",
    "\n",
    "        print(\"forwardPropagation finished -- cacheSize: \", len(cache))\n",
    "        return AL, cache\n",
    "\n",
    "    def affineBackward(self, dA_prev, cache):\n",
    "        A_prev, W, b = cache\n",
    "        dA, dW, db = None, None, None\n",
    "\n",
    "        m = A_prev.shape[1]\n",
    "        dA = np.dot(W.T,dA_prev)\n",
    "        dW = (1/m) * np.dot(dA_prev, A_prev.T)\n",
    "        db = (1/m) * np.sum(dA_prev, axis=1, keepdims=True)\n",
    "\n",
    "        return dA, dW, db\n",
    "\n",
    "    def relu_derivative(self, dx):\n",
    "        dx[dx<=0] = 0\n",
    "        return dx\n",
    "\n",
    "    def activationBackward(self, dA, cache, activation=\"relu\"):\n",
    "        if activation==\"relu\":\n",
    "            return self.relu_derivative(dA)\n",
    "\n",
    "    def dropout_backward(self, dA, cache):\n",
    "        return dA\n",
    "\n",
    "    def backPropagation(self, dAL, Y, cache):\n",
    "        gradients = {}\n",
    "\n",
    "        for l in reversed(range(1, self.num_layers)):\n",
    "            current_cache = cache[l-1]\n",
    "            dAL_nonlinear = self.activationBackward(dAL, current_cache, \"relu\")\n",
    "            dAL, dW, db = self.affineBackward(dAL_nonlinear, current_cache)\n",
    "            gradients[\"dW\"+str(l)] = dW\n",
    "            gradients[\"db\"+str(l)] = db\n",
    "\n",
    "            #if self.drop_prob > 0:\n",
    "            #call dropout_backward\n",
    "\n",
    "        #if self.reg_lambda > 0:\n",
    "        # add gradients from L2 regularization to each dW\n",
    "\n",
    "        return gradients\n",
    "\n",
    "    def updateParameters(self, gradients, alpha):\n",
    "        for l in range(1, self.num_layers-1):\n",
    "            dW = gradients[\"dW\"+str(l)]\n",
    "            db = gradients[\"db\"+str(l)]\n",
    "            print(\"updateParameters -- dW.shape: \", dW.shape, \", db.shape: \", db.shape)\n",
    "            \n",
    "            W_idx = \"W\"+str(l)\n",
    "            b_idx = \"b\"+str(l)\n",
    "            assert(dW.shape == self.parameters[W_idx].shape)\n",
    "            assert(db.shape == self.parameters[b_idx].shape)\n",
    "\n",
    "            self.parameters[W_idx] = self.parameters[W_idx] - alpha*dW\n",
    "            self.parameters[b_idx] = self.parameters[b_idx] - alpha*db\n",
    "\n",
    "    def get_batch(self, X, y, batch_size):\n",
    "        bi = self.parameters[\"batch_index\"]\n",
    "        self.parameters[\"batch_index\"] = self.parameters[\"batch_index\"] + batch_size\n",
    "        return X[:,bi:bi+batch_size], y[bi:bi+batch_size]\n",
    "    \n",
    "    def costFunction(self, AL, y):\n",
    "        cost = (-1/AL.shape[1]) * np.sum(np.log(AL)*y + np.log(1-AL)*(1-y))\n",
    "        cost = np.squeeze(cost)\n",
    "        print(\"Cost: \", cost)\n",
    "        \n",
    "        #if self.reg_lambda > 0:\n",
    "        # add regularization\n",
    "\n",
    "        dAL = -(np.divide(y, AL) - np.divide(1-y, 1-AL))\n",
    "        print(\"dAL: \", dAL)\n",
    "        \n",
    "        return cost, dAL\n",
    "\n",
    "    def train(self, X, y, iters=1000, alpha=0.0001, batch_size=100, print_every=100):\n",
    "        for i in range(0, iters):\n",
    "            X_batch, y_batch = self.get_batch(X, y, batch_size)\n",
    "            print(X_batch.shape)\n",
    "            print(y_batch.shape)\n",
    "            \n",
    "            y_hat, cache = self.forwardPropagation(X_batch)\n",
    "            print(y_hat.shape)\n",
    "            print(len(cache))\n",
    "            \n",
    "            cost, dAL = self.costFunction(y_hat, y_batch)            \n",
    "            gradients = self.backPropagation(dAL, y_batch, cache)\n",
    "            self.updateParameters(gradients, alpha)\n",
    "\n",
    "            if i % print_every == 0:\n",
    "                print(\"Cost: \", cost)\n",
    "\n",
    "    def predict(self, X):\n",
    "        y_pred, cache = self.forwardPropagation(X)\n",
    "        return y_pred"
   ]
  },
  {
   "cell_type": "code",
   "execution_count": 12,
   "metadata": {
    "collapsed": true
   },
   "outputs": [],
   "source": [
    "# Helper functions, DO NOT modify this\n",
    "\n",
    "def get_img_array(path):\n",
    "    \"\"\"\n",
    "    Given path of image, returns it's numpy array\n",
    "    \"\"\"\n",
    "    return scipy.misc.imread(path)\n",
    "\n",
    "def get_files(folder):\n",
    "    \"\"\"\n",
    "    Given path to folder, returns list of files in it\n",
    "    \"\"\"\n",
    "    filenames = [file for file in glob.glob(folder+'*/*')]\n",
    "    filenames.sort()\n",
    "    return filenames\n",
    "\n",
    "def get_label(filepath, label2id):\n",
    "    \"\"\"\n",
    "    Files are assumed to be labeled as: /path/to/file/999_frog.png\n",
    "    Returns label for a filepath\n",
    "    \"\"\"\n",
    "    tokens = filepath.split('/')\n",
    "    label = tokens[-1].split('_')[1][:-4]\n",
    "    if label in label2id:\n",
    "        return label2id[label]\n",
    "    else:\n",
    "        sys.exit(\"Invalid label: \" + label)"
   ]
  },
  {
   "cell_type": "code",
   "execution_count": 9,
   "metadata": {
    "collapsed": true
   },
   "outputs": [],
   "source": [
    "# Functions to load data, DO NOT change these\n",
    "\n",
    "def get_labels(folder, label2id):\n",
    "    \"\"\"\n",
    "    Returns vector of labels extracted from filenames of all files in folder\n",
    "    :param folder: path to data folder\n",
    "    :param label2id: mapping of text labels to numeric ids. (Eg: automobile -> 0)\n",
    "    \"\"\"\n",
    "    files = get_files(folder)\n",
    "    y = []\n",
    "    for f in files:\n",
    "        y.append(get_label(f,label2id))\n",
    "    return np.array(y)\n",
    "\n",
    "def one_hot(y, num_classes=10):\n",
    "    \"\"\"\n",
    "    Converts each label index in y to vector with one_hot encoding\n",
    "    \"\"\"\n",
    "    y_one_hot = np.zeros((y.shape[0], num_classes))\n",
    "    y_one_hot[y] = 1\n",
    "    return y_one_hot.T\n",
    "\n",
    "def get_label_mapping(label_file):\n",
    "    \"\"\"\n",
    "    Returns mappings of label to index and index to label\n",
    "    The input file has list of labels, each on a separate line.\n",
    "    \"\"\"\n",
    "    with open(label_file, 'r') as f:\n",
    "        id2label = f.readlines()\n",
    "        id2label = [l.strip() for l in id2label]\n",
    "    label2id = {}\n",
    "    count = 0\n",
    "    for label in id2label:\n",
    "        label2id[label] = count\n",
    "        count += 1\n",
    "    return id2label, label2id\n",
    "\n",
    "def get_images(folder):\n",
    "    \"\"\"\n",
    "    returns numpy array of all samples in folder\n",
    "    each column is a sample resized to 30x30 and flattened\n",
    "    \"\"\"\n",
    "    files = get_files(folder)\n",
    "    images = []\n",
    "    count = 0\n",
    "    \n",
    "    for f in files:\n",
    "        count += 1\n",
    "        if count % 10000 == 0:\n",
    "            print(\"Loaded {}/{}\".format(count,len(files)))\n",
    "        img_arr = get_img_array(f)\n",
    "        img_arr = img_arr.flatten() / 255.0\n",
    "        images.append(img_arr)\n",
    "    X = np.column_stack(images)\n",
    "\n",
    "    return X\n",
    "\n",
    "def get_train_data(data_root_path):\n",
    "    \"\"\"\n",
    "    Return X and y\n",
    "    \"\"\"\n",
    "    train_data_path = data_root_path + 'train'\n",
    "    id2label, label2id = get_label_mapping(data_root_path+'labels.txt')\n",
    "    print(label2id)\n",
    "    X = get_images(train_data_path)\n",
    "    y = get_labels(train_data_path, label2id)\n",
    "    return X, y\n",
    "\n",
    "def save_predictions(filename, y):\n",
    "    \"\"\"\n",
    "    Dumps y into .npy file\n",
    "    \"\"\"\n",
    "    np.save(filename, y)"
   ]
  },
  {
   "cell_type": "code",
   "execution_count": 10,
   "metadata": {},
   "outputs": [
    {
     "name": "stdout",
     "output_type": "stream",
     "text": [
      "{'frog': 6, 'bird': 2, 'deer': 4, 'airplane': 0, 'automobile': 1, 'ship': 8, 'dog': 5, 'horse': 7, 'truck': 9, 'cat': 3}\n",
      "Loaded 10000/50000\n",
      "Loaded 20000/50000\n",
      "Loaded 30000/50000\n",
      "Loaded 40000/50000\n",
      "Loaded 50000/50000\n",
      "Loaded 10000/10000\n",
      "Data loading done\n"
     ]
    }
   ],
   "source": [
    "# Load the data\n",
    "data_root_path = '/home/rbanerjee/Downloads/cifar10-hw1/'\n",
    "X_train, y_train = get_train_data(data_root_path) # this may take a few minutes\n",
    "X_test = get_images(data_root_path + 'test')\n",
    "print('Data loading done')"
   ]
  },
  {
   "cell_type": "markdown",
   "metadata": {},
   "source": [
    "## Part 1\n",
    "\n",
    "#### Simple fully-connected deep neural network"
   ]
  },
  {
   "cell_type": "code",
   "execution_count": 60,
   "metadata": {
    "scrolled": true
   },
   "outputs": [
    {
     "name": "stdout",
     "output_type": "stream",
     "text": [
      "Num Layers:  3\n",
      "W1  --  (5, 3072)\n",
      "b1  --  (5, 1)\n",
      "W2  --  (10, 5)\n",
      "b2  --  (10, 1)\n",
      "(3072, 2)\n",
      "(2,)\n",
      "affineForward for layer  1  -- shape of output:  (5, 2)\n",
      "activationForward for layer  1  -- shape of output:  (5, 2)\n",
      "affineForward for layer  2  -- shape of output:  (10, 2)\n",
      "activationForward for layer  2  -- shape of output:  (10, 2)\n",
      "forwardPropagation finished -- cacheSize:  2\n",
      "(10, 2)\n",
      "2\n",
      "Cost:  nan\n",
      "dAL:  [[       -inf        -inf]\n",
      " [       -inf        -inf]\n",
      " [       -inf -0.13088206]\n",
      " [       -inf        -inf]\n",
      " [-0.03467389 -0.03393816]\n",
      " [-0.04190047        -inf]\n",
      " [       -inf        -inf]\n",
      " [-0.01221051 -0.02269812]\n",
      " [-0.01219686 -0.01211497]\n",
      " [-0.01380152        -inf]]\n",
      "updateParameters -- dW.shape:  (5, 3072) , db.shape:  (5, 1)\n",
      "Cost:  nan\n"
     ]
    },
    {
     "name": "stderr",
     "output_type": "stream",
     "text": [
      "/home/rbanerjee/.local/lib/python3.5/site-packages/ipykernel_launcher.py:111: RuntimeWarning: divide by zero encountered in log\n",
      "/home/rbanerjee/.local/lib/python3.5/site-packages/ipykernel_launcher.py:111: RuntimeWarning: invalid value encountered in log\n",
      "/home/rbanerjee/.local/lib/python3.5/site-packages/ipykernel_launcher.py:118: RuntimeWarning: divide by zero encountered in true_divide\n"
     ]
    }
   ],
   "source": [
    "layer_dimensions = [X_train.shape[0], 5, 10]  # including the input and output layers\n",
    "NN = NeuralNetwork(layer_dimensions)\n",
    "NN.train(X_train, y_train, iters=1, alpha=0.001, batch_size=2, print_every=100)"
   ]
  },
  {
   "cell_type": "code",
   "execution_count": null,
   "metadata": {
    "collapsed": true
   },
   "outputs": [],
   "source": [
    "y_predicted = NN.predict(X_test)\n",
    "save_predictions('ans1-rb3246', y_predicted)"
   ]
  },
  {
   "cell_type": "code",
   "execution_count": null,
   "metadata": {
    "collapsed": true
   },
   "outputs": [],
   "source": [
    "# test if your numpy file has been saved correctly\n",
    "loaded_y = np.load('ans1-rb3246.npy')\n",
    "print(loaded_y.shape)\n",
    "loaded_y[:10]"
   ]
  },
  {
   "cell_type": "markdown",
   "metadata": {
    "collapsed": true
   },
   "source": [
    "## Part 2: Regularizing the neural network\n",
    "#### Add dropout and L2 regularization"
   ]
  },
  {
   "cell_type": "code",
   "execution_count": null,
   "metadata": {
    "collapsed": true
   },
   "outputs": [],
   "source": [
    "NN2 = NeuralNetwork(layer_dimensions, drop_prob=0, reg_lambda=0)\n",
    "NN2.train(X_train, y_train, iters=1000, alpha=0.00001, batch_size=1000, print_every=10)"
   ]
  },
  {
   "cell_type": "code",
   "execution_count": null,
   "metadata": {
    "collapsed": true
   },
   "outputs": [],
   "source": [
    "y_predicted2 = NN2.predict(X)\n",
    "save_predictions(y_predicted, 'ans2-uni')"
   ]
  }
 ],
 "metadata": {
  "kernelspec": {
   "display_name": "Python 3",
   "language": "python",
   "name": "python3"
  },
  "language_info": {
   "codemirror_mode": {
    "name": "ipython",
    "version": 3
   },
   "file_extension": ".py",
   "mimetype": "text/x-python",
   "name": "python",
   "nbconvert_exporter": "python",
   "pygments_lexer": "ipython3",
   "version": "3.5.2+"
  }
 },
 "nbformat": 4,
 "nbformat_minor": 2
}
